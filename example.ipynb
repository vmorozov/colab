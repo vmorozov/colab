{
  "cells": [
    {
      "cell_type": "markdown",
      "metadata": {
        "language": "markdown"
      },
      "source": [
        "# Private GitHub Setup\n",
        "1. Create a personal access token (classic) with the **repo** scope at https://github.com/settings/tokens.\n",
        "2. Keep the token secret—do not share it or commit it to source control.\n",
        "3. When prompted below, enter your GitHub username and paste the token; the notebook stores it only for this session.\n",
        "4. If you prefer, set the variables ahead of time with `%env GITHUB_USERNAME=<user>` and `%env GITHUB_TOKEN=<token>`.\n",
        "5. Similarly you can `%env PROJECT_NAME=<your github project>`"
      ]
    },
    {
      "cell_type": "code",
      "execution_count": null,
      "metadata": {},
      "outputs": [],
      "source": [
        "%gh repo clone vmorozov/colab"
      ]
    },
    {
      "cell_type": "code",
      "execution_count": null,
      "metadata": {
        "language": "python"
      },
      "outputs": [],
      "source": [
        "\n",
        "import getpass\n",
        "import os\n",
        "\n",
        "if \"GITHUB_USERNAME\" not in os.environ or not os.environ[\"GITHUB_USERNAME\"].strip():\n",
        "    os.environ[\"GITHUB_USERNAME\"] = input(\"Enter your GitHub username: \").strip()\n",
        "\n",
        "if \"GITHUB_TOKEN\" not in os.environ or not os.environ[\"GITHUB_TOKEN\"].strip():\n",
        "    os.environ[\"GITHUB_TOKEN\"] = getpass.getpass(\"Enter your GitHub personal access token: \").strip()\n",
        "\n",
        "if not os.environ[\"GITHUB_TOKEN\"]:\n",
        "    raise RuntimeError(\"GITHUB_TOKEN is required to clone the private repository.\")"
      ]
    },
    {
      "cell_type": "code",
      "execution_count": null,
      "metadata": {
        "language": "python"
      },
      "outputs": [],
      "source": [
        "from setup import (\n",
        "    change_directory,\n",
        "    clone_or_update_repo,\n",
        "    ensure_project_name,\n",
        "    execute_notebook,\n",
        "    install_project_requirements,\n",
        "    store_credentials_from_env,\n",
        ")"
      ]
    },
    {
      "cell_type": "code",
      "execution_count": null,
      "metadata": {
        "language": "python"
      },
      "outputs": [],
      "source": [
        "netrc_path = store_credentials_from_env()\n",
        "print(f\"Credentials stored in {netrc_path}\")"
      ]
    },
    {
      "cell_type": "code",
      "execution_count": null,
      "metadata": {
        "language": "python"
      },
      "outputs": [],
      "source": [
        "project_name = ensure_project_name()\n",
        "project_dir = clone_or_update_repo(\"vmorozov\", project_name)\n",
        "print(f\"Repository ready at {project_dir}\")"
      ]
    },
    {
      "cell_type": "code",
      "execution_count": null,
      "metadata": {
        "language": "python"
      },
      "outputs": [],
      "source": [
        "current_dir = change_directory(project_dir)\n",
        "print(f\"Working directory set to: {current_dir}\")\n",
        "\n",
        "index_url = install_project_requirements()\n",
        "print(f\"Using PyG wheel index: {index_url}\")"
      ]
    },
    {
      "cell_type": "code",
      "execution_count": null,
      "metadata": {
        "language": "python"
      },
      "outputs": [],
      "source": [
        "output_path = execute_notebook()\n",
        "print(f\"Notebook execution complete. Output saved to {output_path}\")"
      ]
    }
  ],
  "metadata": {
    "kernelspec": {
      "display_name": "audio",
      "language": "python",
      "name": "python3"
    },
    "language_info": {
      "codemirror_mode": {
        "name": "ipython",
        "version": 3
      },
      "file_extension": ".py",
      "mimetype": "text/x-python",
      "name": "python",
      "nbconvert_exporter": "python",
      "pygments_lexer": "ipython3",
      "version": "3.11.5"
    }
  },
  "nbformat": 4,
  "nbformat_minor": 5
}
