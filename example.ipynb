{
  "cells": [
    {
      "cell_type": "markdown",
      "id": "6a6b687b",
      "metadata": {
        "colab_type": "text",
        "id": "view-in-github"
      },
      "source": [
        "<a href=\"https://colab.research.google.com/github/vmorozov/colab/blob/main/example.ipynb\" target=\"_parent\"><img src=\"https://colab.research.google.com/assets/colab-badge.svg\" alt=\"Open In Colab\"/></a>"
      ]
    },
    {
      "cell_type": "markdown",
      "id": "5j9LNGr1blVp",
      "metadata": {
        "id": "5j9LNGr1blVp",
        "language": "markdown"
      },
      "source": [
        "# Private GitHub Setup\n",
        "1. Create a personal access token (classic) with the **repo** scope at https://github.com/settings/tokens.\n",
        "2. Keep the token secret—do not share it or commit it to source control.\n",
        "3. When prompted below, enter your GitHub username and paste the token; the notebook stores it only for this session.\n",
        "4. If you prefer, set the variables ahead of time with `%env GITHUB_USERNAME=<user>` and `%env GITHUB_TOKEN=<token>`.\n",
        "5. Similarly you can `%env PROJECT_NAME=<your github project>`"
      ]
    },
    {
      "cell_type": "code",
      "execution_count": null,
      "id": "Cx85PLxxblVw",
      "metadata": {
        "colab": {
          "base_uri": "https://localhost:8080/"
        },
        "id": "Cx85PLxxblVw",
        "outputId": "eb0aaae5-8aa7-41c6-bdaa-ec03c15ba9af"
      },
      "outputs": [],
      "source": [
        "!git clone https://github.com/vmorozov/colab.git"
      ]
    },
    {
      "cell_type": "code",
      "execution_count": null,
      "id": "QtwH_vHLblVy",
      "metadata": {
        "colab": {
          "base_uri": "https://localhost:8080/"
        },
        "id": "QtwH_vHLblVy",
        "language": "python",
        "outputId": "08ff1289-c295-468f-c90f-c579b650a65f"
      },
      "outputs": [],
      "source": [
        "\n",
        "import getpass\n",
        "import os\n",
        "\n",
        "if \"GITHUB_USERNAME\" not in os.environ or not os.environ[\"GITHUB_USERNAME\"].strip():\n",
        "    os.environ[\"GITHUB_USERNAME\"] = input(\"Enter your GitHub username: \").strip()\n",
        "\n",
        "if \"GITHUB_TOKEN\" not in os.environ or not os.environ[\"GITHUB_TOKEN\"].strip():\n",
        "    os.environ[\"GITHUB_TOKEN\"] = getpass.getpass(\"Enter your GitHub personal access token: \").strip()\n",
        "\n",
        "if not os.environ[\"GITHUB_TOKEN\"]:\n",
        "    raise RuntimeError(\"GITHUB_TOKEN is required to clone the private repository.\")"
      ]
    },
    {
      "cell_type": "code",
      "execution_count": null,
      "id": "ZznJxggWblVy",
      "metadata": {
        "id": "ZznJxggWblVy",
        "language": "python"
      },
      "outputs": [],
      "source": [
        "from colab.setup import (\n",
        "    change_directory,\n",
        "    clone_or_update_repo,\n",
        "    ensure_project_name,\n",
        "    execute_notebook,\n",
        "    install_project_requirements,\n",
        "    setup_google_drive_project,\n",
        "    setup_vscode_tunnel,\n",
        "    store_credentials_from_env,\n",
        ")"
      ]
    },
    {
      "cell_type": "code",
      "execution_count": null,
      "id": "8bCKZ2lRblVz",
      "metadata": {
        "colab": {
          "base_uri": "https://localhost:8080/"
        },
        "id": "8bCKZ2lRblVz",
        "language": "python",
        "outputId": "6cd6fce3-6bb3-4d5a-99fe-82d366ef5445"
      },
      "outputs": [],
      "source": [
        "netrc_path = store_credentials_from_env()\n",
        "print(f\"Credentials stored in {netrc_path}\")"
      ]
    },
    {
      "cell_type": "code",
      "execution_count": null,
      "id": "FdjwxpdvblVz",
      "metadata": {
        "colab": {
          "base_uri": "https://localhost:8080/"
        },
        "id": "FdjwxpdvblVz",
        "language": "python",
        "outputId": "c28cc45c-e37f-42eb-971e-aed4681a8dfc"
      },
      "outputs": [],
      "source": [
        "project_name = ensure_project_name()\n",
        "project_dir = clone_or_update_repo(\"vmorozov\", project_name)\n",
        "print(f\"Repository ready at {project_dir}\")"
      ]
    },
    {
      "cell_type": "code",
      "execution_count": null,
      "id": "RLn7N6CLblV0",
      "metadata": {
        "colab": {
          "base_uri": "https://localhost:8080/"
        },
        "id": "RLn7N6CLblV0",
        "language": "python",
        "outputId": "127f57dd-c50f-4df2-8528-ab680eca8082"
      },
      "outputs": [],
      "source": [
        "current_dir = change_directory(project_dir)\n",
        "print(f\"Working directory set to: {current_dir}\")\n",
        "\n",
        "index_url = install_project_requirements()\n",
        "print(f\"Using PyG wheel index: {index_url}\")"
      ]
    },
    {
      "cell_type": "code",
      "execution_count": null,
      "id": "ebb6ca01",
      "metadata": {},
      "outputs": [],
      "source": [
        "#pull the last changes from remote github into current directory from command line. overwrite local changes\n",
        "#!git pull --force --all"
      ]
    },
    {
      "cell_type": "code",
      "execution_count": null,
      "id": "b252a7dc",
      "metadata": {},
      "outputs": [],
      "source": [
        "#or in google drive will be auomaticly named after project and added to environment\n",
        "#project_dir = setup_google_drive_project()"
      ]
    },
    {
      "cell_type": "code",
      "execution_count": null,
      "id": "8a48cdb0",
      "metadata": {},
      "outputs": [],
      "source": [
        "#set directory to save results\n",
        "#either inside project code\n",
        "out_dir = os.path.join(project_dir, \"out\")\n",
        "if not os.path.exists(out_dir):\n",
        "    os.makedirs(out_dir)\n",
        "    os.environ['OUT_DIR'] = out_dir\n",
        "print(f\"Output directory set to: {out_dir}\")"
      ]
    },
    {
      "cell_type": "code",
      "execution_count": null,
      "id": "OaSWZmEZblV0",
      "metadata": {
        "id": "OaSWZmEZblV0",
        "language": "python"
      },
      "outputs": [],
      "source": [
        "my_notebook = 'eval.ipynb'\n",
        "# output_path = execute_notebook(my_notebook, os.path.join(out_dir, my_notebook))\n",
        "# print(f\"Notebook execution complete. Output saved to {output_path}\")"
      ]
    },
    {
      "cell_type": "code",
      "execution_count": null,
      "id": "Awnp7BrYdUvB",
      "metadata": {
        "colab": {
          "base_uri": "https://localhost:8080/"
        },
        "id": "Awnp7BrYdUvB",
        "outputId": "84820407-1841-4417-ddff-b613a316a7e0"
      },
      "outputs": [],
      "source": [
        "#OR convert eval.ipynb to Python script\n",
        "#jupyter nbconvert --to script {my_notebook} && nohup python3 eval.py  &\n",
        "import subprocess\n",
        "subprocess.run(['jupyter', 'nbconvert', '--to', 'script', my_notebook])\n",
        "subprocess.run(['python3', my_notebook.replace('.ipynb', '.py'), '>output.log 2>&1 &'])"
      ]
    },
    {
      "cell_type": "code",
      "execution_count": null,
      "id": "71bae27d",
      "metadata": {},
      "outputs": [],
      "source": [
        "# !git config user.email \"you@example.com\"\n",
        "# !git config user.name \"$GITHUB_USERNAME\" && git add -A && git commit -m \"done\" && git push"
      ]
    },
    {
      "cell_type": "code",
      "execution_count": null,
      "metadata": {},
      "outputs": [],
      "source": [
        "# vscode_tunnel = setup_vscode_tunnel()\n",
        "# vscode_tunnel.connect(name=project_name, create_new_project=project_name)"
      ]
    }
  ],
  "metadata": {
    "accelerator": "GPU",
    "colab": {
      "gpuType": "T4",
      "include_colab_link": true,
      "provenance": []
    },
    "kernelspec": {
      "display_name": "audio",
      "language": "python",
      "name": "python3"
    },
    "language_info": {
      "codemirror_mode": {
        "name": "ipython",
        "version": 3
      },
      "file_extension": ".py",
      "mimetype": "text/x-python",
      "name": "python",
      "nbconvert_exporter": "python",
      "pygments_lexer": "ipython3",
      "version": "3.11.5"
    }
  },
  "nbformat": 4,
  "nbformat_minor": 5
}
