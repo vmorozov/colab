{
  "cells": [
    {
      "cell_type": "markdown",
      "metadata": {
        "language": "markdown"
      },
      "source": [
        "# Private GitHub Setup\n",
        "1. Create a personal access token (classic) with the **repo** scope at https://github.com/settings/tokens.\n",
        "2. Keep the token secret—do not share it or commit it to source control.\n",
        "3. When prompted below, enter your GitHub username and paste the token; the notebook stores it only for this session.\n",
        "4. If you prefer, set the variables ahead of time with `%env GITHUB_USERNAME=<user>` and `%env GITHUB_TOKEN=<token>`.\n",
        "5. Similarly you can `%env PROJECT_NAME=<your github project>`"
      ]
    },
    {
      "cell_type": "code",
      "execution_count": null,
      "metadata": {},
      "outputs": [],
      "source": []
    },
    {
      "cell_type": "code",
      "execution_count": null,
      "metadata": {
        "language": "python"
      },
      "outputs": [],
      "source": [
        "\n",
        "import getpass\n",
        "import os\n",
        "\n",
        "if \"GITHUB_USERNAME\" not in os.environ or not os.environ[\"GITHUB_USERNAME\"].strip():\n",
        "    os.environ[\"GITHUB_USERNAME\"] = input(\"Enter your GitHub username: \").strip()\n",
        "\n",
        "if \"GITHUB_TOKEN\" not in os.environ or not os.environ[\"GITHUB_TOKEN\"].strip():\n",
        "    os.environ[\"GITHUB_TOKEN\"] = getpass.getpass(\"Enter your GitHub personal access token: \").strip()\n",
        "\n",
        "if not os.environ[\"GITHUB_TOKEN\"]:\n",
        "    raise RuntimeError(\"GITHUB_TOKEN is required to clone the private repository.\")"
      ]
    },
    {
      "cell_type": "code",
      "execution_count": null,
      "metadata": {
        "language": "python"
      },
      "outputs": [],
      "source": [
        "import os\n",
        "import stat\n",
        "from pathlib import Path\n",
        "\n",
        "# Store credentials in ~/.netrc so git can authenticate without printing the token.\n",
        "netrc_path = Path.home() / \".netrc\"\n",
        "netrc_content = (\n",
        "    \"machine github.com\\n\"\n",
        "    f\"login {os.environ['GITHUB_USERNAME']}\\n\"\n",
        "    f\"password {os.environ['GITHUB_TOKEN']}\\n\"\n",
        ")\n",
        "netrc_path.write_text(netrc_content)\n",
        "netrc_path.chmod(stat.S_IRUSR | stat.S_IWUSR)\n",
        "print(f\"Credentials stored in {netrc_path}\")"
      ]
    },
    {
      "cell_type": "code",
      "execution_count": null,
      "metadata": {
        "language": "python"
      },
      "outputs": [],
      "source": [
        "import subprocess\n",
        "from pathlib import Path\n",
        "if \"PROJECT_NAME\" not in os.environ or not os.environ[\"PROJECT_NAME\"].strip():\n",
        "    os.environ[\"PROJECT_NAME\"] = input(\"Enter your project name: \").strip()\n",
        "\n",
        "project_name = os.environ[\"PROJECT_NAME\"]\n",
        "repo_url = f\"https://github.com/vmorozov/{project_name}.git\"\n",
        "target_dir = Path(project_name)\n",
        "\n",
        "if not target_dir.exists():\n",
        "    subprocess.run([\"git\", \"clone\", repo_url], check=True)\n",
        "else:\n",
        "    print(\"Repository already exists; updating it with git pull.\")\n",
        "    subprocess.run([\"git\", \"-C\", str(target_dir), \"pull\", \"--ff-only\"], check=True)"
      ]
    },
    {
      "cell_type": "code",
      "execution_count": null,
      "metadata": {
        "language": "python"
      },
      "outputs": [],
      "source": [
        "import os\n",
        "from pathlib import Path\n",
        "\n",
        "project_root = Path(project_name).resolve()\n",
        "os.chdir(project_root)\n",
        "print(f\"Working directory set to: {project_root}\")"
      ]
    },
    {
      "cell_type": "code",
      "execution_count": null,
      "metadata": {
        "language": "python"
      },
      "outputs": [],
      "source": [
        "import os\n",
        "from pathlib import Path\n",
        "\n",
        "import torch\n",
        "\n",
        "requirements_path = Path(\"requrment.txt\")\n",
        "if not requirements_path.exists():\n",
        "    raise FileNotFoundError(\"requrment.txt is missing; verify the file name inside the repository.\")\n",
        "\n",
        "torch_version = torch.__version__.split(\"+\")[0]\n",
        "cuda_version = torch.version.cuda\n",
        "cuda_suffix = f\"cu{cuda_version.replace('.', '')}\" if cuda_version else \"cpu\"\n",
        "index_url = f\"https://data.pyg.org/whl/torch-{torch_version}+{cuda_suffix}.html\"\n",
        "print(f\"Using PyG wheel index: {index_url}\")\n",
        "os.environ[\"PYG_WHEEL_INDEX\"] = index_url\n",
        "\n",
        "!pip install --upgrade pip\n",
        "!pip install -r requrment.txt -f $PYG_WHEEL_INDEX"
      ]
    },
    {
      "cell_type": "code",
      "execution_count": null,
      "metadata": {
        "language": "python"
      },
      "outputs": [],
      "source": [
        "import subprocess\n",
        "from pathlib import Path\n",
        "\n",
        "output_notebook = Path(\"eval_output.ipynb\")\n",
        "command = [\n",
        "    \"jupyter\",\n",
        "    \"nbconvert\",\n",
        "    \"--to\",\n",
        "    \"notebook\",\n",
        "    \"--execute\",\n",
        "    \"eval.ipynb\",\n",
        "    \"--output\",\n",
        "    str(output_notebook),\n",
        "    \"--ExecutePreprocessor.timeout=900\"\n",
        "]\n",
        "subprocess.run(command, check=True)\n",
        "print(f\"Notebook execution complete. Output saved to {output_notebook.resolve()}\")"
      ]
    }
  ],
  "metadata": {
    "kernelspec": {
      "display_name": "Python 3",
      "language": "python",
      "name": "python3"
    },
    "language_info": {
      "name": "python",
      "version": "3.x"
    }
  },
  "nbformat": 4,
  "nbformat_minor": 5
}
